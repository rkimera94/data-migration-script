{
 "cells": [
  {
   "cell_type": "code",
   "execution_count": 2,
   "metadata": {},
   "outputs": [],
   "source": [
    "# import packages \n",
    "import pandas as pd\n",
    "import numpy as np \n",
    "from datetime import datetime\n",
    "import random\n",
    "import psycopg2 \n",
    "import csv"
   ]
  },
  {
   "cell_type": "code",
   "execution_count": 36,
   "metadata": {},
   "outputs": [],
   "source": [
    "# setup database connection \n",
    "conn = psycopg2.connect(\"host='localhost' \\\n",
    "dbname='data-science'\\\n",
    "user='postgres' \\\n",
    "password='123Ht'\")\n",
    "cur = conn.cursor()"
   ]
  },
  {
   "cell_type": "code",
   "execution_count": 45,
   "metadata": {},
   "outputs": [],
   "source": [
    "\n",
    "query_districts = \"SELECT * FROM data_migration.districts\""
   ]
  },
  {
   "cell_type": "code",
   "execution_count": 46,
   "metadata": {},
   "outputs": [],
   "source": [
    "# using postgres cursor \n",
    "cur.execute(query_districts)\n",
    "data = cur.fetchall()"
   ]
  },
  {
   "cell_type": "code",
   "execution_count": 47,
   "metadata": {},
   "outputs": [],
   "source": []
  },
  {
   "cell_type": "code",
   "execution_count": 51,
   "metadata": {},
   "outputs": [
    {
     "data": {
      "text/html": [
       "<div>\n",
       "<style scoped>\n",
       "    .dataframe tbody tr th:only-of-type {\n",
       "        vertical-align: middle;\n",
       "    }\n",
       "\n",
       "    .dataframe tbody tr th {\n",
       "        vertical-align: top;\n",
       "    }\n",
       "\n",
       "    .dataframe thead th {\n",
       "        text-align: right;\n",
       "    }\n",
       "</style>\n",
       "<table border=\"1\" class=\"dataframe\">\n",
       "  <thead>\n",
       "    <tr style=\"text-align: right;\">\n",
       "      <th></th>\n",
       "      <th>id</th>\n",
       "      <th>district_name</th>\n",
       "      <th>created_at</th>\n",
       "      <th>updated_at</th>\n",
       "    </tr>\n",
       "  </thead>\n",
       "  <tbody>\n",
       "    <tr>\n",
       "      <th>0</th>\n",
       "      <td>1</td>\n",
       "      <td>Lira</td>\n",
       "      <td>2022-03-24 11:47:28</td>\n",
       "      <td>2022-03-24 11:47:28</td>\n",
       "    </tr>\n",
       "    <tr>\n",
       "      <th>1</th>\n",
       "      <td>2</td>\n",
       "      <td>Masaka</td>\n",
       "      <td>2022-03-24 11:47:28</td>\n",
       "      <td>2022-03-24 11:47:28</td>\n",
       "    </tr>\n",
       "    <tr>\n",
       "      <th>2</th>\n",
       "      <td>3</td>\n",
       "      <td>Kampala</td>\n",
       "      <td>2022-03-24 11:47:28</td>\n",
       "      <td>2022-03-24 11:47:28</td>\n",
       "    </tr>\n",
       "    <tr>\n",
       "      <th>3</th>\n",
       "      <td>4</td>\n",
       "      <td>Lira</td>\n",
       "      <td>2022-03-24 11:47:47</td>\n",
       "      <td>2022-03-24 11:47:47</td>\n",
       "    </tr>\n",
       "    <tr>\n",
       "      <th>4</th>\n",
       "      <td>5</td>\n",
       "      <td>Masaka</td>\n",
       "      <td>2022-03-24 11:47:47</td>\n",
       "      <td>2022-03-24 11:47:47</td>\n",
       "    </tr>\n",
       "  </tbody>\n",
       "</table>\n",
       "</div>"
      ],
      "text/plain": [
       "   id district_name          created_at          updated_at\n",
       "0   1          Lira 2022-03-24 11:47:28 2022-03-24 11:47:28\n",
       "1   2        Masaka 2022-03-24 11:47:28 2022-03-24 11:47:28\n",
       "2   3       Kampala 2022-03-24 11:47:28 2022-03-24 11:47:28\n",
       "3   4          Lira 2022-03-24 11:47:47 2022-03-24 11:47:47\n",
       "4   5        Masaka 2022-03-24 11:47:47 2022-03-24 11:47:47"
      ]
     },
     "execution_count": 51,
     "metadata": {},
     "output_type": "execute_result"
    }
   ],
   "source": [
    "# using data frame read_sql\n",
    "df_data = pd.read_sql(query_districts,conn)\n",
    "df_data.head()"
   ]
  },
  {
   "cell_type": "code",
   "execution_count": 71,
   "metadata": {},
   "outputs": [
    {
     "data": {
      "text/plain": [
       "Index(['id', 'district_name', 'created_at', 'updated_at'], dtype='object')"
      ]
     },
     "execution_count": 71,
     "metadata": {},
     "output_type": "execute_result"
    }
   ],
   "source": [
    "# data columns \n",
    "df_data.columns"
   ]
  },
  {
   "cell_type": "code",
   "execution_count": 72,
   "metadata": {},
   "outputs": [],
   "source": [
    "# generate csv file "
   ]
  },
  {
   "cell_type": "code",
   "execution_count": 76,
   "metadata": {},
   "outputs": [],
   "source": [
    "df_data_csv = df_data.to_csv('/Users/mac/Desktop/rkimera/youtube_data_analysis/data-migration-script/src/districts.csv',\n",
    "                                 encoding='utf-8', header = True,\n",
    "         doublequote = True, sep=',', index=False)"
   ]
  },
  {
   "cell_type": "code",
   "execution_count": 77,
   "metadata": {},
   "outputs": [],
   "source": [
    "# read csv file data "
   ]
  },
  {
   "cell_type": "code",
   "execution_count": 83,
   "metadata": {},
   "outputs": [
    {
     "data": {
      "text/html": [
       "<div>\n",
       "<style scoped>\n",
       "    .dataframe tbody tr th:only-of-type {\n",
       "        vertical-align: middle;\n",
       "    }\n",
       "\n",
       "    .dataframe tbody tr th {\n",
       "        vertical-align: top;\n",
       "    }\n",
       "\n",
       "    .dataframe thead th {\n",
       "        text-align: right;\n",
       "    }\n",
       "</style>\n",
       "<table border=\"1\" class=\"dataframe\">\n",
       "  <thead>\n",
       "    <tr style=\"text-align: right;\">\n",
       "      <th></th>\n",
       "      <th>id</th>\n",
       "      <th>district_name</th>\n",
       "      <th>created_at</th>\n",
       "      <th>updated_at</th>\n",
       "    </tr>\n",
       "  </thead>\n",
       "  <tbody>\n",
       "    <tr>\n",
       "      <th>0</th>\n",
       "      <td>1</td>\n",
       "      <td>Lira</td>\n",
       "      <td>2022-03-24 11:47:28</td>\n",
       "      <td>2022-03-24 11:47:28</td>\n",
       "    </tr>\n",
       "    <tr>\n",
       "      <th>1</th>\n",
       "      <td>2</td>\n",
       "      <td>Masaka</td>\n",
       "      <td>2022-03-24 11:47:28</td>\n",
       "      <td>2022-03-24 11:47:28</td>\n",
       "    </tr>\n",
       "    <tr>\n",
       "      <th>2</th>\n",
       "      <td>3</td>\n",
       "      <td>Kampala</td>\n",
       "      <td>2022-03-24 11:47:28</td>\n",
       "      <td>2022-03-24 11:47:28</td>\n",
       "    </tr>\n",
       "    <tr>\n",
       "      <th>3</th>\n",
       "      <td>4</td>\n",
       "      <td>Lira</td>\n",
       "      <td>2022-03-24 11:47:47</td>\n",
       "      <td>2022-03-24 11:47:47</td>\n",
       "    </tr>\n",
       "    <tr>\n",
       "      <th>4</th>\n",
       "      <td>5</td>\n",
       "      <td>Masaka</td>\n",
       "      <td>2022-03-24 11:47:47</td>\n",
       "      <td>2022-03-24 11:47:47</td>\n",
       "    </tr>\n",
       "  </tbody>\n",
       "</table>\n",
       "</div>"
      ],
      "text/plain": [
       "   id district_name           created_at           updated_at\n",
       "0   1          Lira  2022-03-24 11:47:28  2022-03-24 11:47:28\n",
       "1   2        Masaka  2022-03-24 11:47:28  2022-03-24 11:47:28\n",
       "2   3       Kampala  2022-03-24 11:47:28  2022-03-24 11:47:28\n",
       "3   4          Lira  2022-03-24 11:47:47  2022-03-24 11:47:47\n",
       "4   5        Masaka  2022-03-24 11:47:47  2022-03-24 11:47:47"
      ]
     },
     "execution_count": 83,
     "metadata": {},
     "output_type": "execute_result"
    }
   ],
   "source": [
    "df = pd.read_csv('districts.csv')\n",
    "df.head()"
   ]
  },
  {
   "cell_type": "markdown",
   "metadata": {},
   "source": [
    "### Function to read data from csv file and create sql insert statement"
   ]
  },
  {
   "cell_type": "code",
   "execution_count": 92,
   "metadata": {},
   "outputs": [],
   "source": [
    "def insert_data():\n",
    "    with open('districts.csv', newline='',  encoding=\"utf8\") as csvfile:\n",
    "        next(csvfile)\n",
    "        spamreader = csv.reader(csvfile)\n",
    "        for row in spamreader:\n",
    "            # Prepare SQL query to INSERT a record into the database.\n",
    "                    \n",
    "            sql = \"INSERT INTO data_migration.tagert_districts(\\\n",
    "            id\\\n",
    "            district_name,created_at,updated_at)VALUES (%s,'%s','%s','%s');\"%(row[0],row[1],row[2],row[3])\n",
    "            print(sql)\n",
    "            try:\n",
    "               # Execute the SQL command\n",
    "               cur.execute(sql)\n",
    "               # Commit your changes in the database\n",
    "               conn.commit()\n",
    "            except:\n",
    "               # Rollback in case there is any error\n",
    "               conn.rollback()"
   ]
  },
  {
   "cell_type": "code",
   "execution_count": 93,
   "metadata": {},
   "outputs": [],
   "source": [
    "# setup database connection \n",
    "conn = psycopg2.connect(\"host='localhost' \\\n",
    "dbname='data-science'\\\n",
    "user='postgres' \\\n",
    "password='123Ht'\")\n",
    "cur = conn.cursor()"
   ]
  },
  {
   "cell_type": "code",
   "execution_count": 94,
   "metadata": {},
   "outputs": [
    {
     "name": "stdout",
     "output_type": "stream",
     "text": [
      "INSERT INTO data_migration.tagert_districts(            id            district_name,created_at,updated_at)VALUES (1,'Lira','2022-03-24 11:47:28','2022-03-24 11:47:28');\n",
      "INSERT INTO data_migration.tagert_districts(            id            district_name,created_at,updated_at)VALUES (2,'Masaka','2022-03-24 11:47:28','2022-03-24 11:47:28');\n",
      "INSERT INTO data_migration.tagert_districts(            id            district_name,created_at,updated_at)VALUES (3,'Kampala','2022-03-24 11:47:28','2022-03-24 11:47:28');\n",
      "INSERT INTO data_migration.tagert_districts(            id            district_name,created_at,updated_at)VALUES (4,'Lira','2022-03-24 11:47:47','2022-03-24 11:47:47');\n",
      "INSERT INTO data_migration.tagert_districts(            id            district_name,created_at,updated_at)VALUES (5,'Masaka','2022-03-24 11:47:47','2022-03-24 11:47:47');\n",
      "INSERT INTO data_migration.tagert_districts(            id            district_name,created_at,updated_at)VALUES (6,'Kampala','2022-03-24 11:47:47','2022-03-24 11:47:47');\n",
      "INSERT INTO data_migration.tagert_districts(            id            district_name,created_at,updated_at)VALUES (7,'Lira','2022-03-24 11:47:54','2022-03-24 11:47:54');\n",
      "INSERT INTO data_migration.tagert_districts(            id            district_name,created_at,updated_at)VALUES (8,'Masaka','2022-03-24 11:47:54','2022-03-24 11:47:54');\n",
      "INSERT INTO data_migration.tagert_districts(            id            district_name,created_at,updated_at)VALUES (9,'Kampala','2022-03-24 11:47:54','2022-03-24 11:47:54');\n",
      "INSERT INTO data_migration.tagert_districts(            id            district_name,created_at,updated_at)VALUES (10,'Lira','2022-03-24 11:50:05','2022-03-24 11:50:05');\n",
      "INSERT INTO data_migration.tagert_districts(            id            district_name,created_at,updated_at)VALUES (11,'Masaka','2022-03-24 11:50:05','2022-03-24 11:50:05');\n",
      "INSERT INTO data_migration.tagert_districts(            id            district_name,created_at,updated_at)VALUES (12,'Kampala','2022-03-24 11:50:05','2022-03-24 11:50:05');\n",
      "INSERT INTO data_migration.tagert_districts(            id            district_name,created_at,updated_at)VALUES (13,'Lira','2022-03-24 11:50:27','2022-03-24 11:50:27');\n",
      "INSERT INTO data_migration.tagert_districts(            id            district_name,created_at,updated_at)VALUES (14,'Masaka','2022-03-24 11:50:27','2022-03-24 11:50:27');\n",
      "INSERT INTO data_migration.tagert_districts(            id            district_name,created_at,updated_at)VALUES (15,'Kampala','2022-03-24 11:50:27','2022-03-24 11:50:27');\n",
      "INSERT INTO data_migration.tagert_districts(            id            district_name,created_at,updated_at)VALUES (16,'Lira','2022-03-24 11:50:33','2022-03-24 11:50:33');\n",
      "INSERT INTO data_migration.tagert_districts(            id            district_name,created_at,updated_at)VALUES (17,'Masaka','2022-03-24 11:50:33','2022-03-24 11:50:33');\n",
      "INSERT INTO data_migration.tagert_districts(            id            district_name,created_at,updated_at)VALUES (18,'Kampala','2022-03-24 11:50:33','2022-03-24 11:50:33');\n",
      "INSERT INTO data_migration.tagert_districts(            id            district_name,created_at,updated_at)VALUES (19,'Lira','2022-03-24 11:50:47','2022-03-24 11:50:47');\n",
      "INSERT INTO data_migration.tagert_districts(            id            district_name,created_at,updated_at)VALUES (20,'Masaka','2022-03-24 11:50:47','2022-03-24 11:50:47');\n",
      "INSERT INTO data_migration.tagert_districts(            id            district_name,created_at,updated_at)VALUES (21,'Kampala','2022-03-24 11:50:47','2022-03-24 11:50:47');\n"
     ]
    }
   ],
   "source": [
    "# call the insert data function\n",
    "insert_data()"
   ]
  },
  {
   "cell_type": "code",
   "execution_count": null,
   "metadata": {},
   "outputs": [],
   "source": []
  },
  {
   "cell_type": "code",
   "execution_count": 82,
   "metadata": {},
   "outputs": [
    {
     "name": "stdout",
     "output_type": "stream",
     "text": [
      "Database connection Closed\n"
     ]
    }
   ],
   "source": [
    "conn.close()\n",
    "print('Database connection Closed')"
   ]
  },
  {
   "cell_type": "code",
   "execution_count": null,
   "metadata": {},
   "outputs": [],
   "source": []
  },
  {
   "cell_type": "code",
   "execution_count": null,
   "metadata": {},
   "outputs": [],
   "source": []
  }
 ],
 "metadata": {
  "kernelspec": {
   "display_name": "Python 3",
   "language": "python",
   "name": "python3"
  },
  "language_info": {
   "codemirror_mode": {
    "name": "ipython",
    "version": 3
   },
   "file_extension": ".py",
   "mimetype": "text/x-python",
   "name": "python",
   "nbconvert_exporter": "python",
   "pygments_lexer": "ipython3",
   "version": "3.7.4"
  }
 },
 "nbformat": 4,
 "nbformat_minor": 2
}
